{
  "nbformat": 4,
  "nbformat_minor": 0,
  "metadata": {
    "colab": {
      "provenance": [],
      "gpuType": "T4",
      "mount_file_id": "1rd_afKKreCbSoQKdEvSmV37mdqt3xi3U",
      "authorship_tag": "ABX9TyMxdbpEhF8BOgi/hava7dGg",
      "include_colab_link": true
    },
    "kernelspec": {
      "name": "python3",
      "display_name": "Python 3"
    },
    "language_info": {
      "name": "python"
    },
    "accelerator": "GPU",
    "gpuClass": "standard"
  },
  "cells": [
    {
      "cell_type": "markdown",
      "metadata": {
        "id": "view-in-github",
        "colab_type": "text"
      },
      "source": [
        "<a href=\"https://colab.research.google.com/github/TranPhamTrungHy/AI-ST7-1234/blob/main/AI_ST7_BANKNOTE.ipynb\" target=\"_parent\"><img src=\"https://colab.research.google.com/assets/colab-badge.svg\" alt=\"Open In Colab\"/></a>"
      ]
    },
    {
      "cell_type": "code",
      "source": [
        "from os import listdir\n",
        "from numpy import asarray\n",
        "from numpy import save\n",
        "from keras.utils import load_img, img_to_array\n",
        "folder = '/content/drive/MyDrive/AI/Banknotes_train/'\n",
        "photos, labels = list(), list()\n",
        "for file in listdir(folder):\n",
        "  output = 0.0\n",
        "  if file.startswith('5k '):\n",
        "    output = 1\n",
        "  if file.startswith('10k '):\n",
        "    output = 2\n",
        "  if file.startswith('20k '):\n",
        "    output = 3\n",
        "  if file.startswith('50k '):\n",
        "    output = 4\n",
        "  if file.startswith('100k '):\n",
        "    output = 5\n",
        "  if file.startswith('500k '):\n",
        "    output = 6\n",
        "  img =load_img(folder+file,target_size=(30,40))\n",
        "  photo = img_to_array(img)\n",
        "  photos.append(photo)\n",
        "  labels.append(output)\n",
        "photos = asarray(photos)\n",
        "labels = asarray(labels)\n",
        "print(photos.shape,labels.shape)\n",
        "save('Banknote_photos_train.npy',photos)\n",
        "save('Banknote_labels_train.npy',labels)"
      ],
      "metadata": {
        "colab": {
          "base_uri": "https://localhost:8080/"
        },
        "id": "3fuU4KrtNYqf",
        "outputId": "5ffdb1c8-c25d-4cfd-eb6a-6e5c30a6b79e"
      },
      "execution_count": 165,
      "outputs": [
        {
          "output_type": "stream",
          "name": "stdout",
          "text": [
            "(360, 30, 40, 3) (360,)\n"
          ]
        }
      ]
    },
    {
      "cell_type": "code",
      "source": [
        "from os import listdir\n",
        "from numpy import asarray\n",
        "from numpy import save\n",
        "from keras.utils import load_img, img_to_array\n",
        "folder = '/content/drive/MyDrive/AI/Banknotes_test/'\n",
        "photos, labels = list(), list()\n",
        "for file in listdir(folder):\n",
        "  output = 0.0\n",
        "  if file.startswith('5k '):\n",
        "    output = 1\n",
        "  if file.startswith('10k '):\n",
        "    output = 2\n",
        "  if file.startswith('20k '):\n",
        "    output = 3\n",
        "  if file.startswith('50k '):\n",
        "    output = 4\n",
        "  if file.startswith('100k '):\n",
        "    output = 5\n",
        "  if file.startswith('500k '):\n",
        "    output = 6\n",
        "  img =load_img(folder+file,target_size=(30,40))\n",
        "  photo = img_to_array(img)\n",
        "  photos.append(photo)\n",
        "  labels.append(output)\n",
        "photos = asarray(photos)\n",
        "labels = asarray(labels)\n",
        "print(photos.shape,labels.shape)\n",
        "save('Banknote_photos_test.npy',photos)\n",
        "save('Banknote_labels_test.npy',labels)"
      ],
      "metadata": {
        "colab": {
          "base_uri": "https://localhost:8080/"
        },
        "id": "YEgM3ThKCLQT",
        "outputId": "1983c837-6aa7-4967-9dda-76aa73dd4916"
      },
      "execution_count": 184,
      "outputs": [
        {
          "output_type": "stream",
          "name": "stdout",
          "text": [
            "(60, 30, 40, 3) (60,)\n"
          ]
        }
      ]
    },
    {
      "cell_type": "code",
      "source": [
        "import numpy as np\n",
        "x_train = np.load('/content/drive/MyDrive/AI/Banknote_photos_train.npy')\n",
        "y_train = np.load('/content/drive/MyDrive/AI/Banknote_labels_train.npy')\n",
        "x_test = np.load('/content/drive/MyDrive/AI/Banknote_photos_test.npy')\n",
        "y_test = np.load('/content/drive/MyDrive/AI/Banknote_labels_test.npy')\n",
        "print(x_train.shape)\n",
        "print(y_train.shape)\n",
        "print(x_test.shape)\n",
        "print(y_test.shape)"
      ],
      "metadata": {
        "colab": {
          "base_uri": "https://localhost:8080/"
        },
        "id": "CGRAMb7wO485",
        "outputId": "bb4f6104-1fc4-410c-8f40-e126e35e6ced"
      },
      "execution_count": 185,
      "outputs": [
        {
          "output_type": "stream",
          "name": "stdout",
          "text": [
            "(360, 30, 40, 3)\n",
            "(360,)\n",
            "(60, 30, 40, 3)\n",
            "(60,)\n"
          ]
        }
      ]
    },
    {
      "cell_type": "code",
      "source": [
        "x_train = x_train.astype('float32')/255\n",
        "x_test = x_test.astype('float32')/255\n",
        "from keras.utils import to_categorical\n",
        "y_train = to_categorical(y_train,10)\n",
        "y_test = to_categorical(y_test,10)"
      ],
      "metadata": {
        "id": "GMdWs-o9TZQ1"
      },
      "execution_count": 186,
      "outputs": []
    },
    {
      "cell_type": "code",
      "source": [
        "from keras.models import Sequential\n",
        "from keras.layers import Dense,Dropout,Flatten,Conv2D,MaxPooling2D,Normalization,LeakyReLU\n",
        "from keras.optimizers import Adam\n",
        "\n",
        "#32 lan tich chap\n",
        "model = Sequential()\n",
        "model.add(Conv2D(32,kernel_size = (3,3),activation = 'relu',input_shape=(30,40,3),padding='Same'))\n",
        "model.add(MaxPooling2D((2,2),padding='same'))\n",
        "model.add(Dropout(0.25))\n",
        "\n",
        "#64 lan tich chap\n",
        "model.add(Conv2D(64,(3,3),activation ='relu',padding ='same'))\n",
        "model.add(MaxPooling2D((2,2),padding='same'))\n",
        "model.add(Dropout(0.25))\n",
        "\n",
        "#128 lan tich chap\n",
        "model.add(Conv2D(128,(3,3),activation ='relu',padding ='same'))\n",
        "model.add(MaxPooling2D((2,2),padding='same'))\n",
        "model.add(Dropout(0.25))\n",
        "\n",
        "#256 lan tich chap\n",
        "model.add(Conv2D(256,(3,3),activation ='relu',padding ='same'))\n",
        "model.add(MaxPooling2D((2,2),padding='same'))\n",
        "model.add(Dropout(0.25))\n",
        "\n",
        "model.add(Flatten())\n",
        "model.add(Dense(64,activation = 'relu'))\n",
        "model.add(Dropout(0.25))\n",
        "model.add(Dense(10,activation='softmax'))\n",
        "\n",
        "from keras.losses import categorical_crossentropy\n",
        "model.compile(loss = categorical_crossentropy,optimizer = Adam(),metrics=['accuracy'])\n",
        "model.summary()\n",
        "train = model.fit(x_train,y_train,batch_size=9,epochs = 50,verbose = 1)\n",
        "\n",
        "test_loss,test_acc = model.evaluate(x_test,y_test)\n",
        "print('Mất mát:',round(test_loss,3))\n",
        "print('Độ chính xác:',round(test_acc*100,3),'%')"
      ],
      "metadata": {
        "colab": {
          "base_uri": "https://localhost:8080/"
        },
        "id": "dSDu7ksGTcd6",
        "outputId": "c12f5a87-9369-40dd-f880-50ff0d679769"
      },
      "execution_count": 207,
      "outputs": [
        {
          "output_type": "stream",
          "name": "stdout",
          "text": [
            "Model: \"sequential_53\"\n",
            "_________________________________________________________________\n",
            " Layer (type)                Output Shape              Param #   \n",
            "=================================================================\n",
            " conv2d_149 (Conv2D)         (None, 30, 40, 32)        896       \n",
            "                                                                 \n",
            " max_pooling2d_149 (MaxPooli  (None, 15, 20, 32)       0         \n",
            " ng2D)                                                           \n",
            "                                                                 \n",
            " dropout_202 (Dropout)       (None, 15, 20, 32)        0         \n",
            "                                                                 \n",
            " conv2d_150 (Conv2D)         (None, 15, 20, 64)        18496     \n",
            "                                                                 \n",
            " max_pooling2d_150 (MaxPooli  (None, 8, 10, 64)        0         \n",
            " ng2D)                                                           \n",
            "                                                                 \n",
            " dropout_203 (Dropout)       (None, 8, 10, 64)         0         \n",
            "                                                                 \n",
            " conv2d_151 (Conv2D)         (None, 8, 10, 128)        73856     \n",
            "                                                                 \n",
            " max_pooling2d_151 (MaxPooli  (None, 4, 5, 128)        0         \n",
            " ng2D)                                                           \n",
            "                                                                 \n",
            " dropout_204 (Dropout)       (None, 4, 5, 128)         0         \n",
            "                                                                 \n",
            " conv2d_152 (Conv2D)         (None, 4, 5, 256)         295168    \n",
            "                                                                 \n",
            " max_pooling2d_152 (MaxPooli  (None, 2, 3, 256)        0         \n",
            " ng2D)                                                           \n",
            "                                                                 \n",
            " dropout_205 (Dropout)       (None, 2, 3, 256)         0         \n",
            "                                                                 \n",
            " flatten_53 (Flatten)        (None, 1536)              0         \n",
            "                                                                 \n",
            " dense_106 (Dense)           (None, 64)                98368     \n",
            "                                                                 \n",
            " dropout_206 (Dropout)       (None, 64)                0         \n",
            "                                                                 \n",
            " dense_107 (Dense)           (None, 10)                650       \n",
            "                                                                 \n",
            "=================================================================\n",
            "Total params: 487,434\n",
            "Trainable params: 487,434\n",
            "Non-trainable params: 0\n",
            "_________________________________________________________________\n",
            "Epoch 1/50\n",
            "40/40 [==============================] - 1s 5ms/step - loss: 1.9835 - accuracy: 0.1750\n",
            "Epoch 2/50\n",
            "40/40 [==============================] - 0s 4ms/step - loss: 1.8661 - accuracy: 0.1944\n",
            "Epoch 3/50\n",
            "40/40 [==============================] - 0s 4ms/step - loss: 1.6915 - accuracy: 0.2472\n",
            "Epoch 4/50\n",
            "40/40 [==============================] - 0s 4ms/step - loss: 1.5689 - accuracy: 0.3167\n",
            "Epoch 5/50\n",
            "40/40 [==============================] - 0s 4ms/step - loss: 1.5092 - accuracy: 0.3167\n",
            "Epoch 6/50\n",
            "40/40 [==============================] - 0s 4ms/step - loss: 1.3598 - accuracy: 0.4250\n",
            "Epoch 7/50\n",
            "40/40 [==============================] - 0s 4ms/step - loss: 1.2364 - accuracy: 0.4667\n",
            "Epoch 8/50\n",
            "40/40 [==============================] - 0s 4ms/step - loss: 1.0953 - accuracy: 0.5556\n",
            "Epoch 9/50\n",
            "40/40 [==============================] - 0s 4ms/step - loss: 1.0557 - accuracy: 0.5500\n",
            "Epoch 10/50\n",
            "40/40 [==============================] - 0s 4ms/step - loss: 0.9962 - accuracy: 0.6111\n",
            "Epoch 11/50\n",
            "40/40 [==============================] - 0s 4ms/step - loss: 0.9045 - accuracy: 0.6250\n",
            "Epoch 12/50\n",
            "40/40 [==============================] - 0s 4ms/step - loss: 0.7769 - accuracy: 0.7028\n",
            "Epoch 13/50\n",
            "40/40 [==============================] - 0s 4ms/step - loss: 0.7487 - accuracy: 0.6833\n",
            "Epoch 14/50\n",
            "40/40 [==============================] - 0s 4ms/step - loss: 0.7177 - accuracy: 0.7000\n",
            "Epoch 15/50\n",
            "40/40 [==============================] - 0s 4ms/step - loss: 0.6492 - accuracy: 0.7444\n",
            "Epoch 16/50\n",
            "40/40 [==============================] - 0s 4ms/step - loss: 0.5520 - accuracy: 0.8000\n",
            "Epoch 17/50\n",
            "40/40 [==============================] - 0s 4ms/step - loss: 0.7132 - accuracy: 0.7000\n",
            "Epoch 18/50\n",
            "40/40 [==============================] - 0s 4ms/step - loss: 0.5350 - accuracy: 0.7750\n",
            "Epoch 19/50\n",
            "40/40 [==============================] - 0s 4ms/step - loss: 0.4923 - accuracy: 0.8056\n",
            "Epoch 20/50\n",
            "40/40 [==============================] - 0s 6ms/step - loss: 0.5267 - accuracy: 0.7972\n",
            "Epoch 21/50\n",
            "40/40 [==============================] - 0s 6ms/step - loss: 0.4692 - accuracy: 0.8194\n",
            "Epoch 22/50\n",
            "40/40 [==============================] - 0s 6ms/step - loss: 0.4566 - accuracy: 0.8417\n",
            "Epoch 23/50\n",
            "40/40 [==============================] - 0s 5ms/step - loss: 0.5180 - accuracy: 0.7917\n",
            "Epoch 24/50\n",
            "40/40 [==============================] - 0s 6ms/step - loss: 0.3611 - accuracy: 0.8639\n",
            "Epoch 25/50\n",
            "40/40 [==============================] - 0s 5ms/step - loss: 0.3021 - accuracy: 0.8944\n",
            "Epoch 26/50\n",
            "40/40 [==============================] - 0s 6ms/step - loss: 0.3174 - accuracy: 0.8917\n",
            "Epoch 27/50\n",
            "40/40 [==============================] - 0s 6ms/step - loss: 0.3911 - accuracy: 0.8500\n",
            "Epoch 28/50\n",
            "40/40 [==============================] - 0s 6ms/step - loss: 0.4188 - accuracy: 0.8472\n",
            "Epoch 29/50\n",
            "40/40 [==============================] - 0s 8ms/step - loss: 0.2303 - accuracy: 0.9139\n",
            "Epoch 30/50\n",
            "40/40 [==============================] - 0s 6ms/step - loss: 0.2696 - accuracy: 0.9111\n",
            "Epoch 31/50\n",
            "40/40 [==============================] - 0s 6ms/step - loss: 0.2224 - accuracy: 0.9139\n",
            "Epoch 32/50\n",
            "40/40 [==============================] - 0s 6ms/step - loss: 0.2006 - accuracy: 0.9111\n",
            "Epoch 33/50\n",
            "40/40 [==============================] - 0s 6ms/step - loss: 0.2304 - accuracy: 0.9222\n",
            "Epoch 34/50\n",
            "40/40 [==============================] - 0s 6ms/step - loss: 0.2158 - accuracy: 0.9056\n",
            "Epoch 35/50\n",
            "40/40 [==============================] - 0s 5ms/step - loss: 0.3746 - accuracy: 0.8639\n",
            "Epoch 36/50\n",
            "40/40 [==============================] - 0s 4ms/step - loss: 0.1835 - accuracy: 0.9333\n",
            "Epoch 37/50\n",
            "40/40 [==============================] - 0s 4ms/step - loss: 0.1840 - accuracy: 0.9250\n",
            "Epoch 38/50\n",
            "40/40 [==============================] - 0s 4ms/step - loss: 0.3513 - accuracy: 0.8722\n",
            "Epoch 39/50\n",
            "40/40 [==============================] - 0s 4ms/step - loss: 0.2103 - accuracy: 0.9194\n",
            "Epoch 40/50\n",
            "40/40 [==============================] - 0s 4ms/step - loss: 0.1875 - accuracy: 0.9250\n",
            "Epoch 41/50\n",
            "40/40 [==============================] - 0s 4ms/step - loss: 0.1217 - accuracy: 0.9639\n",
            "Epoch 42/50\n",
            "40/40 [==============================] - 0s 4ms/step - loss: 0.1444 - accuracy: 0.9417\n",
            "Epoch 43/50\n",
            "40/40 [==============================] - 0s 4ms/step - loss: 0.1531 - accuracy: 0.9528\n",
            "Epoch 44/50\n",
            "40/40 [==============================] - 0s 4ms/step - loss: 0.2711 - accuracy: 0.8861\n",
            "Epoch 45/50\n",
            "40/40 [==============================] - 0s 4ms/step - loss: 0.1586 - accuracy: 0.9333\n",
            "Epoch 46/50\n",
            "40/40 [==============================] - 0s 4ms/step - loss: 0.1196 - accuracy: 0.9583\n",
            "Epoch 47/50\n",
            "40/40 [==============================] - 0s 4ms/step - loss: 0.2069 - accuracy: 0.9278\n",
            "Epoch 48/50\n",
            "40/40 [==============================] - 0s 4ms/step - loss: 0.2502 - accuracy: 0.9278\n",
            "Epoch 49/50\n",
            "40/40 [==============================] - 0s 4ms/step - loss: 0.2194 - accuracy: 0.9333\n",
            "Epoch 50/50\n",
            "40/40 [==============================] - 0s 4ms/step - loss: 0.1560 - accuracy: 0.9500\n",
            "2/2 [==============================] - 0s 9ms/step - loss: 8.4179 - accuracy: 0.4000\n",
            "Mất mát: 8.418\n",
            "Độ chính xác: 40.0 %\n"
          ]
        }
      ]
    },
    {
      "cell_type": "code",
      "source": [
        "model.save('banknote.h5')"
      ],
      "metadata": {
        "id": "TGcNPjdyIF5G"
      },
      "execution_count": 196,
      "outputs": []
    },
    {
      "cell_type": "code",
      "source": [
        "import matplotlib.pyplot as plt\n",
        "from keras.utils import load_img\n",
        "from keras.utils.image_utils import img_to_array\n",
        "import numpy as np\n",
        "vat = {1: '5k',2:'10k', 3:'20k', 4:'50k', 5:'100k', 6:'500k' }\n",
        "img = load_img(\"/content/drive/MyDrive/AI/4_(1)5.jpg\",target_size=(30,40))\n",
        "plt.imshow(img)\n",
        "img = img_to_array(img)\n",
        "img=img.reshape(1,30,40,3)\n",
        "img = img.astype('float32')\n",
        "img =img/255\n",
        "result  = np.argmax(model.predict(img),axis=1)\n",
        "vat[result[0]]"
      ],
      "metadata": {
        "colab": {
          "base_uri": "https://localhost:8080/",
          "height": 466
        },
        "id": "ZIeHj6ubnPyx",
        "outputId": "78227769-d9fd-47b1-885b-6c67043896f8"
      },
      "execution_count": 210,
      "outputs": [
        {
          "output_type": "stream",
          "name": "stdout",
          "text": [
            "1/1 [==============================] - 0s 79ms/step\n"
          ]
        },
        {
          "output_type": "execute_result",
          "data": {
            "text/plain": [
              "'50k'"
            ],
            "application/vnd.google.colaboratory.intrinsic+json": {
              "type": "string"
            }
          },
          "metadata": {},
          "execution_count": 210
        },
        {
          "output_type": "display_data",
          "data": {
            "text/plain": [
              "<Figure size 640x480 with 1 Axes>"
            ],
            "image/png": "[encoded data removed]"
          },
          "metadata": {}
        }
      ]
    }
  ]
}